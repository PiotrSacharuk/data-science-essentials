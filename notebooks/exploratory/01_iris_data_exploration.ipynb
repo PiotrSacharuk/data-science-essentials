{
 "cells": [
  {
   "cell_type": "markdown",
   "id": "5d3363a9",
   "metadata": {},
   "source": [
    "# Iris Dataset Data Exploration\n",
    "\n",
    "**Author:** Data Science Essentials Project  \n",
    "**Date:** September 22, 2025  \n",
    "**Purpose:** Basic data loading and exploration of the Iris dataset\n",
    "\n",
    "This notebook demonstrates how to use our custom `PandasSource` class to load and explore the famous Iris dataset."
   ]
  },
  {
   "cell_type": "markdown",
   "id": "98a913f5",
   "metadata": {},
   "source": [
    "## Prerequisites\n",
    "\n",
    "**Before running this notebook**, make sure you have set up the project structure and downloaded the required data:\n",
    "\n",
    "```bash\n",
    "# From the project root directory\n",
    "python setup.py\n",
    "```\n",
    "\n",
    "This will:\n",
    "- Create the `data/` directory structure  \n",
    "- Download the Iris dataset to `data/raw/iris.csv`\n",
    "- Install required dependencies\n",
    "\n",
    "---"
   ]
  },
  {
   "cell_type": "markdown",
   "id": "6c1fd7e1",
   "metadata": {},
   "source": [
    "## 1. Setup and Data Loading"
   ]
  },
  {
   "cell_type": "code",
   "execution_count": null,
   "id": "a82102cb",
   "metadata": {},
   "outputs": [],
   "source": [
    "# Add project root to Python path\n",
    "import sys\n",
    "import os\n",
    "import urllib.request\n",
    "from pathlib import Path\n",
    "\n",
    "# Find the project root - handle both local and CI environments\n",
    "notebook_dir = Path(os.getcwd())\n",
    "if notebook_dir.name == 'exploratory' and notebook_dir.parent.name == 'notebooks':\n",
    "    # We're running the notebook directly in its folder\n",
    "    project_root = notebook_dir.parent.parent\n",
    "else:\n",
    "    # We're probably in a CI environment or another directory\n",
    "    # Look for a directory structure that suggests we're in the project\n",
    "    for possible_root in [Path(os.getcwd()), Path(os.getcwd()).parent]:\n",
    "        if (possible_root / 'notebooks' / 'exploratory').exists():\n",
    "            project_root = possible_root\n",
    "            break\n",
    "    else:\n",
    "        # Fallback to relative path from notebook\n",
    "        project_root = Path('.').absolute().parent.parent\n",
    "        # Add to Python path\n",
    "        sys.path.append(str(project_root))\n",
    "\n",
    "# Add to Python path if not already there\n",
    "if str(project_root) not in sys.path:\n",
    "    sys.path.append(str(project_root))\n",
    "\n",
    "print(f\"Project root: {project_root}\")\n",
    "\n",
    "# Import PandasSource from project\n",
    "from src.data.sources import PandasSource\n",
    "\n",
    "# Set up paths\n",
    "data_dir = project_root / 'data' / 'raw'\n",
    "iris_path = data_dir / 'iris.csv'\n",
    "\n",
    "print(f\"Looking for Iris dataset at: {iris_path}\")\n",
    "\n",
    "# Create directories if they don't exist\n",
    "if not data_dir.exists():\n",
    "    os.makedirs(data_dir, exist_ok=True)\n",
    "    print(f\"Created directory: {data_dir}\")\n",
    "\n",
    "# Download iris data if it doesn't exist\n",
    "if not iris_path.exists():\n",
    "    print(f\"Downloading Iris dataset to {iris_path}\")\n",
    "    iris_url = \"https://archive.ics.uci.edu/ml/machine-learning-databases/iris/iris.data\"\n",
    "    \n",
    "    try:\n",
    "        # Create directory if it doesn't exist\n",
    "        os.makedirs(os.path.dirname(iris_path), exist_ok=True)\n",
    "        \n",
    "        # Download the file\n",
    "        urllib.request.urlretrieve(iris_url, iris_path)\n",
    "        print(f\"Successfully downloaded Iris dataset to {iris_path}\")\n",
    "    except Exception as e:\n",
    "        print(f\"Error downloading Iris dataset: {e}\")\n",
    "        raise\n",
    "else:\n",
    "    print(f\"Iris dataset found at: {iris_path}\")\n",
    "\n",
    "# Verify file exists\n",
    "if not iris_path.exists():\n",
    "    raise FileNotFoundError(f\"Data file not found: {iris_path}\")\n",
    "\n",
    "# Load Iris dataset from data/raw/ directory\n",
    "data_source = PandasSource(\n",
    "    file_path=str(iris_path),  # Convert Path to string\n",
    "    separator=',',\n",
    "    header=False,\n",
    "    names=['sepal_length', 'sepal_width', 'petal_length', 'petal_width', 'target']\n",
    ")"
   ]
  },
  {
   "cell_type": "markdown",
   "id": "63101d3a",
   "metadata": {},
   "source": [
    "## 2. Basic Data Exploration"
   ]
  },
  {
   "cell_type": "code",
   "execution_count": null,
   "id": "7b2099b0-8789-464a-a5cd-eb56fa6e2aa5",
   "metadata": {},
   "outputs": [],
   "source": [
    "# Display first 5 rows of the dataset\n",
    "data_source.head()"
   ]
  },
  {
   "cell_type": "code",
   "execution_count": null,
   "id": "3afb2426-3497-4f6b-a2ce-0d996b127817",
   "metadata": {},
   "outputs": [],
   "source": [
    "# Display last 5 rows of the dataset\n",
    "data_source.tail()"
   ]
  },
  {
   "cell_type": "code",
   "execution_count": null,
   "id": "d3a55738-acc9-41dc-b7f8-c7ae1870a91c",
   "metadata": {},
   "outputs": [],
   "source": [
    "# Display first 2 rows of the dataset\n",
    "data_source.head(2)"
   ]
  },
  {
   "cell_type": "code",
   "execution_count": null,
   "id": "6731c4a4-d230-40c0-ad9a-0676372ca32a",
   "metadata": {},
   "outputs": [],
   "source": [
    "# Display column names\n",
    "data_source.df.columns.tolist()"
   ]
  },
  {
   "cell_type": "code",
   "execution_count": null,
   "id": "67734651",
   "metadata": {},
   "outputs": [],
   "source": [
    "# Generate descriptive statistics\n",
    "data_source.describe()"
   ]
  },
  {
   "cell_type": "markdown",
   "id": "44aee479",
   "metadata": {},
   "source": [
    "## 3. Metadata Information\n",
    "\n",
    "Explore metadata information about the dataset using the new PandasSource API."
   ]
  },
  {
   "cell_type": "code",
   "execution_count": null,
   "id": "c3b88437",
   "metadata": {},
   "outputs": [],
   "source": [
    "# Display dataset metadata\n",
    "data_source.metadata"
   ]
  }
 ],
 "metadata": {
  "kernelspec": {
   "display_name": ".venv",
   "language": "python",
   "name": "python3"
  },
  "language_info": {
   "codemirror_mode": {
    "name": "ipython",
    "version": 3
   },
   "file_extension": ".py",
   "mimetype": "text/x-python",
   "name": "python",
   "nbconvert_exporter": "python",
   "pygments_lexer": "ipython3",
   "version": "3.10.12"
  }
 },
 "nbformat": 4,
 "nbformat_minor": 5
}
