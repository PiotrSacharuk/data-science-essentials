{
 "cells": [
  {
   "cell_type": "markdown",
   "id": "5d3363a9",
   "metadata": {},
   "source": [
    "# Iris Dataset Data Exploration\n",
    "\n",
    "**Author:** Data Science Essentials Project  \n",
    "**Date:** September 22, 2025  \n",
    "**Purpose:** Basic data loading and exploration of the Iris dataset\n",
    "\n",
    "This notebook demonstrates how to use our custom `PandasSource` class to load and explore the famous Iris dataset."
   ]
  },
  {
   "cell_type": "markdown",
   "id": "98a913f5",
   "metadata": {},
   "source": [
    "## Prerequisites\n",
    "\n",
    "**Before running this notebook**, make sure you have set up the project structure and downloaded the required data:\n",
    "\n",
    "```bash\n",
    "# From the project root directory\n",
    "python setup.py\n",
    "```\n",
    "\n",
    "This will:\n",
    "- Create the `data/` directory structure  \n",
    "- Download the Iris dataset to `data/raw/iris.csv`\n",
    "- Install required dependencies\n",
    "\n",
    "---"
   ]
  },
  {
   "cell_type": "markdown",
   "id": "6c1fd7e1",
   "metadata": {},
   "source": [
    "## 1. Setup and Data Loading"
   ]
  },
  {
   "cell_type": "code",
   "execution_count": null,
   "id": "a82102cb",
   "metadata": {},
   "outputs": [],
   "source": [
    "# Add project root to Python path\n",
    "import sys\n",
    "import os\n",
    "sys.path.append('../../')\n",
    "\n",
    "from src.data.sources import PandasSource\n",
    "\n",
    "# Check if iris.csv exists, if not provide helpful message\n",
    "iris_path = '../../data/raw/iris.csv'\n",
    "if not os.path.exists(iris_path):\n",
    "    print(\"Data file not found!\")\n",
    "    print(\"It looks like the project hasn't been set up yet.\")\n",
    "    print()\n",
    "    print(\"To download the required data files, run:\")\n",
    "    print(\"   cd ../../\")\n",
    "    print(\"   python setup.py\")\n",
    "    print()\n",
    "    print(\"This will create the data/ directory structure and download iris.csv\")\n",
    "    raise FileNotFoundError(f\"Data file not found: {iris_path}\")\n",
    "\n",
    "# Load Iris dataset from data/raw/ directory\n",
    "data_source = PandasSource(\n",
    "    file_path=iris_path,\n",
    "    separator=',',\n",
    "    header=False,\n",
    "    names=['sepal_length', 'sepal_width', 'petal_length', 'petal_width', 'target']\n",
    ")"
   ]
  },
  {
   "cell_type": "markdown",
   "id": "63101d3a",
   "metadata": {},
   "source": [
    "## 2. Basic Data Exploration"
   ]
  },
  {
   "cell_type": "code",
   "execution_count": null,
   "id": "7b2099b0-8789-464a-a5cd-eb56fa6e2aa5",
   "metadata": {},
   "outputs": [],
   "source": [
    "# Display first 5 rows of the dataset\n",
    "data_source.head()"
   ]
  },
  {
   "cell_type": "code",
   "execution_count": null,
   "id": "3afb2426-3497-4f6b-a2ce-0d996b127817",
   "metadata": {},
   "outputs": [],
   "source": [
    "# Display last 5 rows of the dataset\n",
    "data_source.tail()"
   ]
  },
  {
   "cell_type": "code",
   "execution_count": null,
   "id": "d3a55738-acc9-41dc-b7f8-c7ae1870a91c",
   "metadata": {},
   "outputs": [],
   "source": [
    "# Display first 2 rows of the dataset\n",
    "data_source.head(2)"
   ]
  },
  {
   "cell_type": "code",
   "execution_count": null,
   "id": "6731c4a4-d230-40c0-ad9a-0676372ca32a",
   "metadata": {},
   "outputs": [],
   "source": [
    "# Display column names\n",
    "data_source.df.columns.tolist()"
   ]
  },
  {
   "cell_type": "code",
   "execution_count": null,
   "id": "67734651",
   "metadata": {},
   "outputs": [],
   "source": [
    "# Generate descriptive statistics\n",
    "data_source.describe()"
   ]
  },
  {
   "cell_type": "markdown",
   "id": "44aee479",
   "metadata": {},
   "source": [
    "## 3. Metadata Information\n",
    "\n",
    "Explore metadata information about the dataset using the new PandasSource API."
   ]
  },
  {
   "cell_type": "code",
   "execution_count": null,
   "id": "c3b88437",
   "metadata": {},
   "outputs": [],
   "source": [
    "# Display dataset metadata\n",
    "data_source.metadata"
   ]
  }
 ],
 "metadata": {
  "kernelspec": {
   "display_name": ".venv",
   "language": "python",
   "name": "python3"
  },
  "language_info": {
   "codemirror_mode": {
    "name": "ipython",
    "version": 3
   },
   "file_extension": ".py",
   "mimetype": "text/x-python",
   "name": "python",
   "nbconvert_exporter": "python",
   "pygments_lexer": "ipython3",
   "version": "3.10.12"
  }
 },
 "nbformat": 4,
 "nbformat_minor": 5
}
